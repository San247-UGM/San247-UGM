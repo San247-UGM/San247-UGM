{
 "cells": [
  {
   "cell_type": "code",
   "execution_count": 21,
   "id": "b1166819-eb2a-4cdd-a4e6-5e0b9f8688b4",
   "metadata": {},
   "outputs": [],
   "source": [
    "suhu_24h = {37.0, 35.0, 34.3, 32.0, 31.1}\n"
   ]
  },
  {
   "cell_type": "code",
   "execution_count": 70,
   "id": "3d0da34e-9105-4a7a-8af4-4e4c9174dbc5",
   "metadata": {},
   "outputs": [
    {
     "name": "stdout",
     "output_type": "stream",
     "text": [
      "suhu sekarang adalah:  9032.0\n",
      "suhu sekarang adalah:  9034.3\n",
      "suhu sekarang adalah:  9035.0\n",
      "suhu sekarang adalah:  9037.0\n"
     ]
    },
    {
     "ename": "KeyboardInterrupt",
     "evalue": "",
     "output_type": "error",
     "traceback": [
      "\u001b[31m---------------------------------------------------------------------------\u001b[39m",
      "\u001b[31mKeyboardInterrupt\u001b[39m                         Traceback (most recent call last)",
      "\u001b[36mCell\u001b[39m\u001b[36m \u001b[39m\u001b[32mIn[70]\u001b[39m\u001b[32m, line 4\u001b[39m\n\u001b[32m      2\u001b[39m suhu_kelvin=elemen+\u001b[32m9000\u001b[39m\n\u001b[32m      3\u001b[39m \u001b[38;5;28mprint\u001b[39m (\u001b[33m\"\u001b[39m\u001b[33msuhu sekarang adalah: \u001b[39m\u001b[33m\"\u001b[39m,suhu_kelvin)\n\u001b[32m----> \u001b[39m\u001b[32m4\u001b[39m \u001b[43mtime\u001b[49m\u001b[43m.\u001b[49m\u001b[43msleep\u001b[49m\u001b[43m(\u001b[49m\u001b[32;43m60\u001b[39;49m\u001b[43m)\u001b[49m\n",
      "\u001b[31mKeyboardInterrupt\u001b[39m: "
     ]
    }
   ],
   "source": [
    "for elemen in suhu_24h:\n",
    "    suhu_kelvin=elemen+9000\n",
    "    print (\"suhu sekarang adalah: \",suhu_kelvin)\n",
    "    time.sleep(60)"
   ]
  },
  {
   "cell_type": "code",
   "execution_count": 32,
   "id": "9e5c6de4-1496-492c-926b-ae44aa125f25",
   "metadata": {},
   "outputs": [
    {
     "name": "stdout",
     "output_type": "stream",
     "text": [
      "pukul:  1 lebih:  0  menit\n",
      "pukul:  1 lebih:  10  menit\n",
      "pukul:  1 lebih:  20  menit\n",
      "pukul:  1 lebih:  30  menit\n",
      "pukul:  1 lebih:  40  menit\n",
      "pukul:  1 lebih:  50  menit\n",
      "pukul:  1 lebih:  60  menit\n",
      "pukul:  2 lebih:  0  menit\n",
      "pukul:  2 lebih:  10  menit\n",
      "pukul:  2 lebih:  20  menit\n",
      "pukul:  2 lebih:  30  menit\n",
      "pukul:  2 lebih:  40  menit\n",
      "pukul:  2 lebih:  50  menit\n",
      "pukul:  2 lebih:  60  menit\n",
      "pukul:  3 lebih:  0  menit\n",
      "pukul:  3 lebih:  10  menit\n",
      "pukul:  3 lebih:  20  menit\n",
      "pukul:  3 lebih:  30  menit\n",
      "pukul:  3 lebih:  40  menit\n",
      "pukul:  3 lebih:  50  menit\n",
      "pukul:  3 lebih:  60  menit\n"
     ]
    }
   ],
   "source": [
    "menit=[0,10,20,30,40,50,60]\n",
    "jam=[1,2,3]\n",
    "\n",
    "for j in jam:\n",
    "    for m in menit:\n",
    "        print(\"pukul: \",j,\"lebih: \",m,\" menit\") jumpboat\n",
    "        "
   ]
  },
  {
   "cell_type": "code",
   "execution_count": 50,
   "id": "7fe4d9b1-9dc0-4813-978a-0d6fe5fc4d9c",
   "metadata": {},
   "outputs": [
    {
     "name": "stdout",
     "output_type": "stream",
     "text": [
      "1\n",
      "6\n",
      "11\n",
      "16\n",
      "21\n",
      "26\n",
      "31\n",
      "36\n",
      "41\n",
      "46\n",
      "51\n",
      "56\n",
      "61\n",
      "66\n",
      "71\n",
      "76\n",
      "81\n",
      "86\n",
      "91\n",
      "96\n",
      "101\n",
      "106\n",
      "111\n",
      "116\n",
      "121\n",
      "126\n",
      "131\n",
      "136\n",
      "141\n",
      "146\n",
      "151\n",
      "156\n",
      "161\n",
      "166\n",
      "171\n",
      "176\n",
      "181\n",
      "186\n",
      "191\n",
      "196\n"
     ]
    }
   ],
   "source": [
    "k = 1 #inisialisasi\n",
    "while k <= 200: # kondisi terminasi. pastikan kondisi ini akan terpenuhi !\n",
    "    print(k)\n",
    "    k += 5"
   ]
  },
  {
   "cell_type": "code",
   "execution_count": 49,
   "id": "09f43fe1-e956-4cc7-b36a-980bcde1d10d",
   "metadata": {},
   "outputs": [
    {
     "name": "stdout",
     "output_type": "stream",
     "text": [
      "1\n",
      "6\n",
      "11\n",
      "16\n",
      "21\n",
      "26\n",
      "31\n",
      "36\n",
      "41\n",
      "46\n",
      "51\n",
      "56\n",
      "61\n",
      "66\n",
      "71\n",
      "76\n",
      "81\n",
      "86\n",
      "91\n",
      "96\n",
      "101\n",
      "106\n",
      "111\n",
      "116\n",
      "121\n",
      "126\n",
      "131\n",
      "136\n",
      "141\n",
      "146\n",
      "151\n",
      "156\n",
      "161\n",
      "166\n",
      "171\n",
      "176\n",
      "181\n",
      "186\n",
      "191\n",
      "196\n"
     ]
    }
   ],
   "source": [
    "k = 1 #inisialisasi\n",
    "while k <= 200: # kondisi terminasi. pastikan kondisi ini akan terpenuhi !\n",
    "    print(k)\n",
    "    k += 5"
   ]
  },
  {
   "cell_type": "code",
   "execution_count": 52,
   "id": "346e186f-ce13-4f1d-b025-ef90d6073b58",
   "metadata": {},
   "outputs": [
    {
     "name": "stdout",
     "output_type": "stream",
     "text": [
      "H\n",
      "I\n",
      "D\n",
      "U\n",
      "P\n",
      " \n",
      "J\n",
      "O\n",
      "K\n",
      "O\n",
      "W\n",
      "I\n"
     ]
    }
   ],
   "source": [
    "# string\n",
    "teks = \"HIDUP JOKOWI\"\n",
    "for ch in teks:\n",
    "    print(ch)"
   ]
  },
  {
   "cell_type": "code",
   "execution_count": 53,
   "id": "1f204b5e-f591-4119-899d-a94ffb0dc0e3",
   "metadata": {},
   "outputs": [
    {
     "name": "stdout",
     "output_type": "stream",
     "text": [
      "Ali : 80\n",
      "Budi : 74\n",
      "Citra : 92\n"
     ]
    }
   ],
   "source": [
    "nilai= {\"Ali\" : 80, \"Budi\": 74, \"Citra\":92}\n",
    "for nama, skor in nilai. items():\n",
    "    print(f\"{nama} : {skor}\")"
   ]
  },
  {
   "cell_type": "code",
   "execution_count": 54,
   "id": "1ac87123-2468-482d-a850-7fe535ba9b1e",
   "metadata": {},
   "outputs": [
    {
     "name": "stdout",
     "output_type": "stream",
     "text": [
      "memeriksa: 1\n",
      "memeriksa: 2\n",
      "memeriksa: 3\n",
      "memeriksa: 4\n",
      "memeriksa: 5\n",
      "memeriksa: 6\n",
      "kelipatan 7 pertama: 7\n"
     ]
    }
   ],
   "source": [
    "for n in range(1,101):\n",
    "    if n % 7 == 0:\n",
    "        print(\"kelipatan 7 pertama:\", n)\n",
    "        break\n",
    "    print(f\"memeriksa: {n}\")"
   ]
  },
  {
   "cell_type": "code",
   "execution_count": 55,
   "id": "b582b0db-539e-44fd-9a7c-2f76814f0a3c",
   "metadata": {},
   "outputs": [
    {
     "name": "stdout",
     "output_type": "stream",
     "text": [
      "1 3 5 7 9 "
     ]
    }
   ],
   "source": [
    "for n in range(1, 11):\n",
    "    if n % 2 == 0:\n",
    "        continue\n",
    "    print(n, end=\" \")\n",
    "        "
   ]
  },
  {
   "cell_type": "code",
   "execution_count": 57,
   "id": "e266b3f1-14e4-4295-bcae-1ccc7c185b0b",
   "metadata": {},
   "outputs": [
    {
     "name": "stdout",
     "output_type": "stream",
     "text": [
      "19 adalah bilangan prima\n"
     ]
    }
   ],
   "source": [
    "x = 19\n",
    "for d in range(2, x):\n",
    "    if x % d == 0:\n",
    "        print(f\"{x} bukan prima (habis dibagi {d})\")\n",
    "        break\n",
    "else:\n",
    "    print(f\"{x} adalah bilangan prima\")"
   ]
  },
  {
   "cell_type": "code",
   "execution_count": 58,
   "id": "0784b804-da6a-44b7-8730-0806613e1a57",
   "metadata": {},
   "outputs": [
    {
     "name": "stdout",
     "output_type": "stream",
     "text": [
      "1\t2\t3\t4\t5\n",
      "2\t4\t6\t8\t10\n",
      "3\t6\t9\t12\t15\n",
      "4\t8\t12\t16\t20\n",
      "5\t10\t15\t20\t25\n"
     ]
    }
   ],
   "source": [
    "for i in range(1, 6):\n",
    "    row = []\n",
    "    for j in range(1, 6):\n",
    "        row.append(i*j)\n",
    "    print(\"\\t\".join(map(str, row)))"
   ]
  },
  {
   "cell_type": "code",
   "execution_count": 63,
   "id": "56b9b399-dcbd-4c5c-b03e-7e857f196757",
   "metadata": {},
   "outputs": [],
   "source": [
    "suhu_24h = {37.0, 35.0, 34.3, 32.0, 31.1}\n"
   ]
  },
  {
   "cell_type": "code",
   "execution_count": 71,
   "id": "ae1c9c91-9087-42a0-a4a1-c2bbc4c505e2",
   "metadata": {},
   "outputs": [
    {
     "ename": "TypeError",
     "evalue": "'set' object is not subscriptable",
     "output_type": "error",
     "traceback": [
      "\u001b[31m---------------------------------------------------------------------------\u001b[39m",
      "\u001b[31mTypeError\u001b[39m                                 Traceback (most recent call last)",
      "\u001b[36mCell\u001b[39m\u001b[36m \u001b[39m\u001b[32mIn[71]\u001b[39m\u001b[32m, line 1\u001b[39m\n\u001b[32m----> \u001b[39m\u001b[32m1\u001b[39m suhu_pertama_C = \u001b[43msuhu_24h\u001b[49m\u001b[43m \u001b[49m\u001b[43m[\u001b[49m\u001b[32;43m0\u001b[39;49m\u001b[43m]\u001b[49m\n\u001b[32m      3\u001b[39m suhu_pertama_F = (\u001b[32m9\u001b[39m/\u001b[32m5\u001b[39m*suhu_pertama_C)+\u001b[32m32\u001b[39m\n\u001b[32m      4\u001b[39m \u001b[38;5;28mprint\u001b[39m(\u001b[33m\"\u001b[39m\u001b[33mSuhu pertama dalam C: \u001b[39m\u001b[33m\"\u001b[39m, suhu_pertama_C)\n",
      "\u001b[31mTypeError\u001b[39m: 'set' object is not subscriptable"
     ]
    }
   ],
   "source": [
    "suhu_pertama_C = suhu_24h [0]\n",
    "\n",
    "suhu_pertama_F = (9/5*suhu_pertama_C)+32\n",
    "print(\"Suhu pertama dalam C: \", suhu_pertama_C)\n",
    "print(\"Suhu pertama dalam F: \", suhu_pertama_F)"
   ]
  },
  {
   "cell_type": "code",
   "execution_count": 72,
   "id": "78de9989-f76b-41f7-8510-208aa86c27ad",
   "metadata": {},
   "outputs": [
    {
     "ename": "NameError",
     "evalue": "name 'celcius_to_fahrenheit' is not defined",
     "output_type": "error",
     "traceback": [
      "\u001b[31m---------------------------------------------------------------------------\u001b[39m",
      "\u001b[31mNameError\u001b[39m                                 Traceback (most recent call last)",
      "\u001b[36mCell\u001b[39m\u001b[36m \u001b[39m\u001b[32mIn[72]\u001b[39m\u001b[32m, line 2\u001b[39m\n\u001b[32m      1\u001b[39m suhu_celcius=\u001b[32m10\u001b[39m\n\u001b[32m----> \u001b[39m\u001b[32m2\u001b[39m suhu_fahrenheit=\u001b[43mcelcius_to_fahrenheit\u001b[49m(suhu_celcius)\n\u001b[32m      3\u001b[39m \u001b[38;5;28mprint\u001b[39m(suhu_fahrenheit)\n",
      "\u001b[31mNameError\u001b[39m: name 'celcius_to_fahrenheit' is not defined"
     ]
    }
   ],
   "source": [
    "suhu_celcius=10\n",
    "suhu_fahrenheit=celcius_to_fahrenheit(suhu_celcius)\n",
    "print(suhu_fahrenheit)"
   ]
  },
  {
   "cell_type": "code",
   "execution_count": null,
   "id": "4977e65b-4a81-4f80-b8fd-4df8d0f04a13",
   "metadata": {},
   "outputs": [],
   "source": [
    "celcius_to_fahrenheit(15)\n"
   ]
  },
  {
   "cell_type": "code",
   "execution_count": null,
   "id": "f0927c6b-2ccf-494f-ada6-fee3727d0ac4",
   "metadata": {},
   "outputs": [],
   "source": []
  }
 ],
 "metadata": {
  "kernelspec": {
   "display_name": "Python 3 (ipykernel)",
   "language": "python",
   "name": "python3"
  },
  "language_info": {
   "codemirror_mode": {
    "name": "ipython",
    "version": 3
   },
   "file_extension": ".py",
   "mimetype": "text/x-python",
   "name": "python",
   "nbconvert_exporter": "python",
   "pygments_lexer": "ipython3",
   "version": "3.13.5"
  }
 },
 "nbformat": 4,
 "nbformat_minor": 5
}
